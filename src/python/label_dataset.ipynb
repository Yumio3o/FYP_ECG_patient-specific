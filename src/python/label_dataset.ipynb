{
 "cells": [
  {
   "cell_type": "code",
   "execution_count": 1,
   "metadata": {},
   "outputs": [],
   "source": [
    "# -*- coding: utf-8 -*-\n",
    "\n",
    "import os\n",
    "import csv"
   ]
  },
  {
   "cell_type": "code",
   "execution_count": 2,
   "metadata": {},
   "outputs": [
    {
     "name": "stdout",
     "output_type": "stream",
     "text": [
      "PTB_CSV_DATASET/s0546_re.csv\n"
     ]
    }
   ],
   "source": [
    "dataset_path = 'PTB_CSV_DATASET/'\n",
    "person_set = ['s0010_re', 's0287lre', 's0009_re', 's0365lre', 's0048_re', 's0444_re', 's0450_re', 's0509_re', 's0546_re']\n",
    "temp_data = []\n",
    "train_X = []\n",
    "train_Y = []\n",
    "\n",
    "n = 8\n",
    "person_id = n + 1\n",
    "\n",
    "print(dataset_path + person_set[n] + '.csv')\n",
    "with open(dataset_path + person_set[n] + '.csv', newline='') as csvfile:\n",
    "    spamreader = csv.reader(csvfile, delimiter=' ', quotechar='|')\n",
    "    for row in spamreader:\n",
    "        temp_data.append(', '.join(row))\n",
    "\n",
    "    for i in range(len(temp_data)):\n",
    "        temp = temp_data[i].split(',')\n",
    "        train_X.append(temp[6])"
   ]
  },
  {
   "cell_type": "code",
   "execution_count": 3,
   "metadata": {},
   "outputs": [
    {
     "name": "stdout",
     "output_type": "stream",
     "text": [
      "8\n",
      "PTB_LABELED_DATASET/9_s0546_re.csv\n"
     ]
    }
   ],
   "source": [
    "output_path = 'PTB_LABELED_DATASET/'\n",
    "\n",
    "person_id = n + 1\n",
    "\n",
    "print(n)\n",
    "print(output_path + str(person_id) + '_' + person_set[n] + '.csv')\n",
    "\n",
    "with open(output_path + str(person_id) + '_' + person_set[n] + '.csv', 'w+', newline='') as csvfile:\n",
    "    spamwriter = csv.writer(csvfile, delimiter=',',\n",
    "                            quotechar='|', quoting=csv.QUOTE_MINIMAL)\n",
    "\n",
    "    for i in range(0,5000):\n",
    "        temp = train_X[i]\n",
    "        spamwriter.writerow([temp, person_id])"
   ]
  },
  {
   "cell_type": "code",
   "execution_count": null,
   "metadata": {},
   "outputs": [],
   "source": []
  }
 ],
 "metadata": {
  "kernelspec": {
   "display_name": "Python 3",
   "language": "python",
   "name": "python3"
  },
  "language_info": {
   "codemirror_mode": {
    "name": "ipython",
    "version": 3
   },
   "file_extension": ".py",
   "mimetype": "text/x-python",
   "name": "python",
   "nbconvert_exporter": "python",
   "pygments_lexer": "ipython3",
   "version": "3.7.5"
  }
 },
 "nbformat": 4,
 "nbformat_minor": 4
}
