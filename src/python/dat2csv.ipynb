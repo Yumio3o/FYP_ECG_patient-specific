{
 "cells": [
  {
   "cell_type": "code",
   "execution_count": 1,
   "metadata": {},
   "outputs": [],
   "source": [
    "\"\"\"\n",
    "Code to convert all .dat files (ECG signals) in a folder to CSV format \n",
    "@author: Abhishek Patil\n",
    "\n",
    "\"\"\"\n",
    "\n",
    "import wfdb #WaveForm-Database package. A library of tools for reading, writing, and processing WFDB signals and annotations.\n",
    "import pandas as pd\n",
    "import numpy as np\n",
    "import glob2 as glob\n",
    "import os"
   ]
  },
  {
   "cell_type": "code",
   "execution_count": 2,
   "metadata": {},
   "outputs": [],
   "source": [
    "def create_dataset():\n",
    "    db_folder = \"PTB_ORIGINAL_DATASET/\"\n",
    "    csv_folder = \"PTB_CSV_DATASET/\"\n",
    "\n",
    "    dat_files=glob.glob(db_folder + \"*.dat\") #Get list of all .dat files in the current folder\n",
    "    df = pd.DataFrame(data=dat_files)\n",
    "    df.to_csv(\"files_list_PTB.csv\",index=False,header=None) #Write the list to a CSV file\n",
    "    files=pd.read_csv(\"files_list_PTB.csv\",header=None)\n",
    "    print(dat_files)\n",
    "\n",
    "    for i in range(0,len(files)):\n",
    "        recordname=str(dat_files[i])\n",
    "        recordname=recordname.split('.')\n",
    "        recordname=recordname[0]\n",
    "        print(recordname)\n",
    "\n",
    "        record = wfdb.rdsamp(recordname) # rdsamp() returns the signal as a numpy array  \n",
    "        record=np.asarray(record[0])\n",
    "        \n",
    "        recordname=recordname.split('/')\n",
    "        recordname=recordname[1]\n",
    "        path= csv_folder + recordname + \".csv\"\n",
    "        print(path)\n",
    "\n",
    "        if not os.path.exists(csv_folder):\n",
    "            os.mkdir(csv_folder)\n",
    "\n",
    "        np.savetxt(path,record,delimiter=\",\") #Writing the CSV for each record\n",
    "        print(\"Files done: %s/%s\"% (i+1,len(files)))\n",
    "\n",
    "    print(\"\\n [ \" + csv_folder + \"] All files done!\\n\")"
   ]
  },
  {
   "cell_type": "code",
   "execution_count": 3,
   "metadata": {},
   "outputs": [],
   "source": [
    "def main():\n",
    "    create_dataset()"
   ]
  },
  {
   "cell_type": "code",
   "execution_count": 5,
   "metadata": {},
   "outputs": [
    {
     "name": "stdout",
     "output_type": "stream",
     "text": [
      "['PTB_ORIGINAL_DATASET/s0009_re.dat', 'PTB_ORIGINAL_DATASET/s0010_re.dat', 'PTB_ORIGINAL_DATASET/s0365lre.dat', 'PTB_ORIGINAL_DATASET/s0048_re.dat', 'PTB_ORIGINAL_DATASET/s0509_re.dat', 'PTB_ORIGINAL_DATASET/s0287lre.dat', 'PTB_ORIGINAL_DATASET/s0546_re.dat', 'PTB_ORIGINAL_DATASET/s0444_re.dat', 'PTB_ORIGINAL_DATASET/s0450_re.dat']\n",
      "PTB_ORIGINAL_DATASET/s0009_re\n",
      "PTB_CSV_DATASET/s0009_re.csv\n",
      "Files done: 1/9\n",
      "PTB_ORIGINAL_DATASET/s0010_re\n",
      "PTB_CSV_DATASET/s0010_re.csv\n",
      "Files done: 2/9\n",
      "PTB_ORIGINAL_DATASET/s0365lre\n",
      "PTB_CSV_DATASET/s0365lre.csv\n",
      "Files done: 3/9\n",
      "PTB_ORIGINAL_DATASET/s0048_re\n",
      "PTB_CSV_DATASET/s0048_re.csv\n",
      "Files done: 4/9\n",
      "PTB_ORIGINAL_DATASET/s0509_re\n",
      "PTB_CSV_DATASET/s0509_re.csv\n",
      "Files done: 5/9\n",
      "PTB_ORIGINAL_DATASET/s0287lre\n",
      "PTB_CSV_DATASET/s0287lre.csv\n",
      "Files done: 6/9\n",
      "PTB_ORIGINAL_DATASET/s0546_re\n",
      "PTB_CSV_DATASET/s0546_re.csv\n",
      "Files done: 7/9\n",
      "PTB_ORIGINAL_DATASET/s0444_re\n",
      "PTB_CSV_DATASET/s0444_re.csv\n",
      "Files done: 8/9\n",
      "PTB_ORIGINAL_DATASET/s0450_re\n",
      "PTB_CSV_DATASET/s0450_re.csv\n",
      "Files done: 9/9\n",
      "\n",
      " [ PTB_CSV_DATASET/] All files done!\n",
      "\n"
     ]
    }
   ],
   "source": [
    "if __name__ == \"__main__\":\n",
    "    main()"
   ]
  },
  {
   "cell_type": "code",
   "execution_count": null,
   "metadata": {},
   "outputs": [],
   "source": []
  }
 ],
 "metadata": {
  "kernelspec": {
   "display_name": "Python 3",
   "language": "python",
   "name": "python3"
  },
  "language_info": {
   "codemirror_mode": {
    "name": "ipython",
    "version": 3
   },
   "file_extension": ".py",
   "mimetype": "text/x-python",
   "name": "python",
   "nbconvert_exporter": "python",
   "pygments_lexer": "ipython3",
   "version": "3.7.5"
  }
 },
 "nbformat": 4,
 "nbformat_minor": 4
}
